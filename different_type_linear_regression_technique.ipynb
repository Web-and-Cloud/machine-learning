{
 "cells": [
  {
   "cell_type": "code",
   "execution_count": 1,
   "id": "7c1c500d-15ba-438a-8ff6-8df2f7d083e1",
   "metadata": {},
   "outputs": [
    {
     "name": "stdout",
     "output_type": "stream",
     "text": [
      "MSE: 0.001836734693877538\n"
     ]
    }
   ],
   "source": [
    "from sklearn.linear_model import LinearRegression\n",
    "from sklearn.model_selection import train_test_split\n",
    "from sklearn.metrics import mean_squared_error\n",
    "\n",
    "#simple linear regression\n",
    "\n",
    "# Sample data\n",
    "X = [[1], [2], [3], [4], [5]]\n",
    "y = [1.5, 3.1, 4.9, 6.2, 7.8]\n",
    "\n",
    "# Train-test split\n",
    "X_train, X_test, y_train, y_test = train_test_split(X, y, test_size=0.2, random_state=42)\n",
    "\n",
    "# Model\n",
    "model = LinearRegression()\n",
    "model.fit(X_train, y_train)\n",
    "\n",
    "# Predictions and evaluation\n",
    "y_pred = model.predict(X_test)\n",
    "print(\"MSE:\", mean_squared_error(y_test, y_pred))\n"
   ]
  },
  {
   "cell_type": "code",
   "execution_count": 2,
   "id": "f80fc5d0-729a-4372-91fa-a3446de4aeb8",
   "metadata": {},
   "outputs": [
    {
     "name": "stdout",
     "output_type": "stream",
     "text": [
      "Coefficients: [0.99571429 0.99571429]\n"
     ]
    }
   ],
   "source": [
    "#multiple linear regression technique\n",
    "import numpy as np\n",
    "\n",
    "# Multiple features\n",
    "X = np.array([[1, 2], [2, 3], [3, 4], [4, 5], [5, 6]])\n",
    "y = np.array([2.5, 4.1, 6.2, 8.3, 10.5])\n",
    "\n",
    "# Train-test split\n",
    "X_train, X_test, y_train, y_test = train_test_split(X, y, test_size=0.2, random_state=42)\n",
    "\n",
    "# Model\n",
    "model = LinearRegression()\n",
    "model.fit(X_train, y_train)\n",
    "\n",
    "# Predictions\n",
    "y_pred = model.predict(X_test)\n",
    "print(\"Coefficients:\", model.coef_)\n"
   ]
  },
  {
   "cell_type": "code",
   "execution_count": 3,
   "id": "b801138c-1ad1-45a3-b8b1-0dd8391e8bb0",
   "metadata": {},
   "outputs": [
    {
     "name": "stdout",
     "output_type": "stream",
     "text": [
      "Prediction: [12.98]\n"
     ]
    }
   ],
   "source": [
    "#Polynomial Regression\n",
    "from sklearn.preprocessing import PolynomialFeatures\n",
    "\n",
    "# Polynomial transformation\n",
    "poly = PolynomialFeatures(degree=2)\n",
    "X_poly = poly.fit_transform(X)\n",
    "\n",
    "# Fit linear regression on transformed data\n",
    "model = LinearRegression()\n",
    "model.fit(X_poly, y)\n",
    "\n",
    "# Predict\n",
    "y_pred = model.predict(poly.transform([[6, 7]]))  # Example input\n",
    "print(\"Prediction:\", y_pred)\n",
    "\n"
   ]
  },
  {
   "cell_type": "code",
   "execution_count": 4,
   "id": "839e5737-779e-49ac-aa1c-7b8b10f757bf",
   "metadata": {},
   "outputs": [
    {
     "name": "stdout",
     "output_type": "stream",
     "text": [
      "Ridge Coefficients: [0.94189189 0.94189189]\n"
     ]
    }
   ],
   "source": [
    "# Ridge Regression\n",
    "from sklearn.linear_model import Ridge\n",
    "\n",
    "# Ridge regression\n",
    "ridge = Ridge(alpha=1.0)\n",
    "ridge.fit(X_train, y_train)\n",
    "\n",
    "# Predictions\n",
    "y_pred = ridge.predict(X_test)\n",
    "print(\"Ridge Coefficients:\", ridge.coef_)\n"
   ]
  },
  {
   "cell_type": "code",
   "execution_count": 5,
   "id": "12584318-9f8c-4563-83cb-3bd6b8d7f446",
   "metadata": {},
   "outputs": [
    {
     "name": "stdout",
     "output_type": "stream",
     "text": [
      "Lasso Coefficients: [1.94571429 0.        ]\n"
     ]
    }
   ],
   "source": [
    "# Lasso Regression\n",
    "from sklearn.linear_model import Lasso\n",
    "\n",
    "# Lasso regression\n",
    "lasso = Lasso(alpha=0.1)\n",
    "lasso.fit(X_train, y_train)\n",
    "\n",
    "# Predictions\n",
    "y_pred = lasso.predict(X_test)\n",
    "print(\"Lasso Coefficients:\", lasso.coef_)\n",
    "\n"
   ]
  },
  {
   "cell_type": "code",
   "execution_count": 6,
   "id": "5ce4c406-4854-4e9b-94c6-ac0dbd441bd8",
   "metadata": {},
   "outputs": [
    {
     "name": "stdout",
     "output_type": "stream",
     "text": [
      "Elastic Net Coefficients: [0.97519946 0.97117371]\n"
     ]
    }
   ],
   "source": [
    "#Elastic Net Regression\n",
    "from sklearn.linear_model import ElasticNet\n",
    "\n",
    "# ElasticNet regression\n",
    "elastic_net = ElasticNet(alpha=0.1, l1_ratio=0.5)\n",
    "elastic_net.fit(X_train, y_train)\n",
    "\n",
    "# Predictions\n",
    "y_pred = elastic_net.predict(X_test)\n",
    "print(\"Elastic Net Coefficients:\", elastic_net.coef_)\n"
   ]
  },
  {
   "cell_type": "code",
   "execution_count": 7,
   "id": "7400755d-f30a-41fc-9f3d-1a557c59f965",
   "metadata": {},
   "outputs": [
    {
     "name": "stdout",
     "output_type": "stream",
     "text": [
      "Huber Coefficients: [1.19210766 0.79905594]\n"
     ]
    }
   ],
   "source": [
    "#Robust Regression\n",
    "from sklearn.linear_model import HuberRegressor\n",
    "\n",
    "# Robust regression\n",
    "huber = HuberRegressor()\n",
    "huber.fit(X_train, y_train)\n",
    "\n",
    "# Predictions\n",
    "y_pred = huber.predict(X_test)\n",
    "print(\"Huber Coefficients:\", huber.coef_)\n"
   ]
  },
  {
   "cell_type": "code",
   "execution_count": 8,
   "id": "eebbba7e-4b88-4035-9dbe-d1b42ba0a3ab",
   "metadata": {},
   "outputs": [
    {
     "name": "stdout",
     "output_type": "stream",
     "text": [
      "                         QuantReg Regression Results                          \n",
      "==============================================================================\n",
      "Dep. Variable:                      y   Pseudo R-squared:               0.9508\n",
      "Model:                       QuantReg   Bandwidth:                         nan\n",
      "Method:                 Least Squares   Sparsity:                          nan\n",
      "Date:                Wed, 27 Nov 2024   No. Observations:                    5\n",
      "Time:                        13:37:36   Df Residuals:                        3\n",
      "                                        Df Model:                            1\n",
      "==============================================================================\n",
      "                 coef    std err          t      P>|t|      [0.025      0.975]\n",
      "------------------------------------------------------------------------------\n",
      "x1             2.2000        nan        nan        nan         nan         nan\n",
      "x2            -0.1000        nan        nan        nan         nan         nan\n",
      "==============================================================================\n"
     ]
    }
   ],
   "source": [
    "#Quantile Regression\n",
    "import statsmodels.api as sm\n",
    "\n",
    "# Quantile regression (e.g., 50th percentile)\n",
    "model = sm.QuantReg(y, X)\n",
    "result = model.fit(q=0.5)\n",
    "\n",
    "print(result.summary())\n",
    "\n"
   ]
  },
  {
   "cell_type": "code",
   "execution_count": 9,
   "id": "b65f2e2e-e052-4537-a282-b48f38604e33",
   "metadata": {},
   "outputs": [
    {
     "name": "stdout",
     "output_type": "stream",
     "text": [
      "Poisson Predictions: [4.14474818]\n"
     ]
    }
   ],
   "source": [
    "#Generalized Linear Models (GLMs)\n",
    "from sklearn.linear_model import PoissonRegressor\n",
    "\n",
    "# Poisson regression\n",
    "poisson = PoissonRegressor()\n",
    "poisson.fit(X_train, y_train)\n",
    "\n",
    "# Predictions\n",
    "y_pred = poisson.predict(X_test)\n",
    "print(\"Poisson Predictions:\", y_pred)\n"
   ]
  },
  {
   "cell_type": "code",
   "execution_count": null,
   "id": "ef55fada-f668-46ab-b2c0-67c959102f71",
   "metadata": {},
   "outputs": [],
   "source": []
  }
 ],
 "metadata": {
  "kernelspec": {
   "display_name": "Python 3 (ipykernel)",
   "language": "python",
   "name": "python3"
  },
  "language_info": {
   "codemirror_mode": {
    "name": "ipython",
    "version": 3
   },
   "file_extension": ".py",
   "mimetype": "text/x-python",
   "name": "python",
   "nbconvert_exporter": "python",
   "pygments_lexer": "ipython3",
   "version": "3.12.7"
  }
 },
 "nbformat": 4,
 "nbformat_minor": 5
}
